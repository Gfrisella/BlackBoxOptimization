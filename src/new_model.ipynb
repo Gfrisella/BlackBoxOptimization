{
 "cells": [
  {
   "cell_type": "code",
   "execution_count": 1,
   "metadata": {},
   "outputs": [],
   "source": [
    "import torch\n",
    "from optimizer import LGSO"
   ]
  },
  {
   "cell_type": "code",
   "execution_count": 2,
   "metadata": {},
   "outputs": [],
   "source": [
    "class Classifier(torch.nn.Module):\n",
    "    def __init__(self, phi_dim,x_dim = 7, hidden_dim=256):\n",
    "        super().__init__()\n",
    "        self.fc1 = torch.nn.Linear(x_dim + phi_dim, hidden_dim)\n",
    "        self.fc2 = torch.nn.Linear(hidden_dim, hidden_dim)\n",
    "        self.fc3 = torch.nn.Linear(hidden_dim, hidden_dim)\n",
    "        self.fc4 = torch.nn.Linear(hidden_dim, 1)\n",
    "        self.activation = torch.nn.ReLU()\n",
    "\n",
    "    def forward(self, x):\n",
    "        #x = torch.cat((phi,muons),axis = 1)\n",
    "        x = self.activation(self.fc1(x))\n",
    "        x = self.activation(self.fc2(x))\n",
    "        x = self.activation(self.fc3(x))\n",
    "        x = torch.sigmoid(self.fc4(x))\n",
    "        return x\n",
    "    \n",
    "class HitsClassifier():\n",
    "    def __init__(self,\n",
    "                 n_models:int = 1,\n",
    "                 **classifier_kargs) -> None:\n",
    "        self.models = [Classifier(**classifier_kargs) for i in range(n_models)]\n",
    "        self.loss_fn = torch.nn.BCELoss()\n",
    "    def fit(self,phi,y,x,n_epochs:int = 1000):\n",
    "        inputs = torch.cat([phi.repeat(x.size(0),1),x.repeat(phi.size(0),1)],1)\n",
    "        for model in self.models:\n",
    "            optimizer = torch.optim.SGD(model.parameters(),lr = 0.1,momentum=0.9)\n",
    "            for e in range(n_epochs):\n",
    "                optimizer.zero_grad()\n",
    "                p_hits = model(inputs)\n",
    "                loss = self.loss_fn(p_hits,y)\n",
    "                loss.backward()\n",
    "                optimizer.step()\n",
    "    def get_predictions(self,phi,x):\n",
    "        inputs = torch.cat([phi.repeat(x.size(0),1),x.repeat(phi.size(0),1)],1)\n",
    "        return torch.tensor([model(inputs) for model in self.models])\n",
    "    def __call__(self,phi,x, return_unc = False):\n",
    "        predictions = self.get_predictions(phi,x)\n",
    "        if return_unc: return torch.mean(predictions,axis=0), torch.var(predictions,axis=0)\n",
    "        else: return torch.mean(predictions,axis=0)"
   ]
  },
  {
   "cell_type": "code",
   "execution_count": 5,
   "metadata": {},
   "outputs": [],
   "source": [
    "class ActiveLCSO(LGSO):\n",
    "    def __init__(self,p_threshold:float, unc_threshold:float, phi_dim:int) -> None:\n",
    "        self.p_threshold = p_threshold\n",
    "        self.unc_threshold = unc_threshold\n",
    "    def loss_fn(self,y):\n",
    "        return torch.mean(torch.log(y))\n",
    "    def get_uncertain(self,phi,x):\n",
    "        predictions,unc = self.self(phi,x,return_unc = True)\n",
    "        return torch.logical_and(predictions.ge(self.p_threshold),unc.ge(self.unc_threshold))\n",
    "    def optimization_iteration(self):\n",
    "        sampled_phi = self.sample_phi(self.current_phi)\n",
    "        x = self.true_model.sample_x(sampled_phi)\n",
    "        uncertain_mask = self.get_uncertain(sampled_phi,x)\n",
    "        y = self.true_model.simulate(sampled_phi,x[uncertain_mask])\n",
    "        self.update_history(sampled_phi,y,x[uncertain_mask])\n",
    "        self.fit_surrogate_model()\n",
    "        self.get_new_phi()\n",
    "        return self.get_optimal()\n",
    "    def clean_training_data(self):\n",
    "        return self.history\n"
   ]
  },
  {
   "cell_type": "code",
   "execution_count": null,
   "metadata": {},
   "outputs": [],
   "source": []
  }
 ],
 "metadata": {
  "kernelspec": {
   "display_name": "Python 3",
   "language": "python",
   "name": "python3"
  },
  "language_info": {
   "codemirror_mode": {
    "name": "ipython",
    "version": 3
   },
   "file_extension": ".py",
   "mimetype": "text/x-python",
   "name": "python",
   "nbconvert_exporter": "python",
   "pygments_lexer": "ipython3",
   "version": "3.12.3"
  }
 },
 "nbformat": 4,
 "nbformat_minor": 2
}
