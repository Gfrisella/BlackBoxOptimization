{
 "cells": [
  {
   "cell_type": "code",
   "execution_count": 1,
   "metadata": {},
   "outputs": [],
   "source": [
    "import torch"
   ]
  },
  {
   "cell_type": "code",
   "execution_count": null,
   "metadata": {},
   "outputs": [],
   "source": [
    "class hits_classifier():\n",
    "    def __init__(self,p_threshold, unc_threshold) -> None:\n",
    "        self.p_threshold = p_threshold\n",
    "        self.unc_threshold = unc_threshold\n",
    "    def fine_tune(self,phi,muons):\n",
    "        p_hits = self(phi,muons)\n",
    "        unc = self.get_uncertainty()\n",
    "        p = self.real_prob(p_hits,unc)\n",
    "        inference_mask = torch.logical_and(p>self.p_threshold, unc>self.unc_threshold)\n",
    "        results = simulate(phi,muons[inference_mask])\n",
    "        \n",
    "    def get_uncertainty(self,phi,mouns):\n",
    "        return unc\n",
    "    def real_prob(self,p_hits,unc):\n",
    "        return real_p\n",
    "    def weight_loss(self,phi):\n",
    "        w = calc_weight(phi)\n",
    "        return torch.exp(w)\n",
    "    def forward(self,phi,muons):\n",
    "        return p_hits, unc\n",
    "\n",
    "model = Model()\n",
    "\n",
    "phi = torch.ones(42, requires_grad=True)\n",
    "optimizer = torch.optim.SGD(phi)\n",
    "\n",
    "for e in range(n_epochs):\n",
    "    weight_loss = model.weight_loss(phi)\n",
    "    p_hits = model(phi,muons)\n",
    "    loss = p_hits.mean()*weight_loss\n",
    "    loss.backward()\n",
    "    optimizer.step()\n",
    "    \n",
    "\n"
   ]
  }
 ],
 "metadata": {
  "kernelspec": {
   "display_name": "Python 3",
   "language": "python",
   "name": "python3"
  },
  "language_info": {
   "codemirror_mode": {
    "name": "ipython",
    "version": 3
   },
   "file_extension": ".py",
   "mimetype": "text/x-python",
   "name": "python",
   "nbconvert_exporter": "python",
   "pygments_lexer": "ipython3",
   "version": "3.12.3"
  }
 },
 "nbformat": 4,
 "nbformat_minor": 2
}
