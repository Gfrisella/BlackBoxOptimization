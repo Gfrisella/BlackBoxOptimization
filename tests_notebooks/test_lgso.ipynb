{
 "cells": [
  {
   "cell_type": "code",
   "execution_count": 9,
   "metadata": {},
   "outputs": [],
   "source": [
    "import sys\n",
    "import os\n",
    "os.environ['PROJECTS_DIR'] = '/home/hep/lprate/projects'\n",
    "sys.path.append('/home/hep/lprate/projects/BlackBoxOptimization/src')\n",
    "from optimizer import LGSO\n",
    "from problems import ShipMuonShield\n",
    "from models import GANModel\n",
    "import torch\n",
    "import wandb\n",
    "\n",
    "dev = torch.device('cuda' if torch.cuda.is_available() else 'cpu')"
   ]
  },
  {
   "cell_type": "code",
   "execution_count": 10,
   "metadata": {},
   "outputs": [
    {
     "name": "stderr",
     "output_type": "stream",
     "text": [
      "ERROR:wandb.jupyter:Failed to detect the name of this notebook, you can set it manually with the WANDB_NOTEBOOK_NAME environment variable to enable code saving.\n",
      "\u001b[34m\u001b[1mwandb\u001b[0m: Currently logged in as: \u001b[33mlfpc\u001b[0m. Use \u001b[1m`wandb login --relogin`\u001b[0m to force relogin\n"
     ]
    }
   ],
   "source": [
    "wandb.login()\n",
    "WANDB = {'project': 'Tests', 'group': \"testLGSO\"}"
   ]
  },
  {
   "cell_type": "code",
   "execution_count": 12,
   "metadata": {},
   "outputs": [
    {
     "ename": "ModuleNotFoundError",
     "evalue": "No module named 'lib'",
     "output_type": "error",
     "traceback": [
      "\u001b[0;31m---------------------------------------------------------------------------\u001b[0m",
      "\u001b[0;31mModuleNotFoundError\u001b[0m                       Traceback (most recent call last)",
      "Cell \u001b[0;32mIn[12], line 1\u001b[0m\n\u001b[0;32m----> 1\u001b[0m problem \u001b[38;5;241m=\u001b[39m \u001b[43mShipMuonShield\u001b[49m\u001b[43m(\u001b[49m\u001b[43mcores\u001b[49m\u001b[43m \u001b[49m\u001b[38;5;241;43m=\u001b[39;49m\u001b[43m \u001b[49m\u001b[38;5;241;43m45\u001b[39;49m\u001b[43m,\u001b[49m\u001b[43mfSC_mag\u001b[49m\u001b[38;5;241;43m=\u001b[39;49m\u001b[38;5;28;43;01mFalse\u001b[39;49;00m\u001b[43m,\u001b[49m\u001b[43m \u001b[49m\u001b[43mdimensions_phi\u001b[49m\u001b[38;5;241;43m=\u001b[39;49m\u001b[38;5;241;43m54\u001b[39;49m\u001b[43m,\u001b[49m\n\u001b[1;32m      2\u001b[0m \u001b[43m                                        \u001b[49m\u001b[43msensitive_plane\u001b[49m\u001b[38;5;241;43m=\u001b[39;49m\u001b[38;5;241;43m82\u001b[39;49m\u001b[43m,\u001b[49m\u001b[43msimulate_fields\u001b[49m\u001b[38;5;241;43m=\u001b[39;49m\u001b[38;5;28;43;01mFalse\u001b[39;49;00m\u001b[43m)\u001b[49m\n\u001b[1;32m      3\u001b[0m phi_range \u001b[38;5;241m=\u001b[39m problem\u001b[38;5;241m.\u001b[39mGetBounds(device\u001b[38;5;241m=\u001b[39mdev)\n\u001b[1;32m      4\u001b[0m optimizer \u001b[38;5;241m=\u001b[39m LGSO(problem, surrogate_model\u001b[38;5;241m=\u001b[39mGANModel(\u001b[38;5;241m54\u001b[39m,\u001b[38;5;241m643118\u001b[39m,\u001b[38;5;241m64\u001b[39m,device \u001b[38;5;241m=\u001b[39m dev), bounds \u001b[38;5;241m=\u001b[39m phi_range,\n\u001b[1;32m      5\u001b[0m                     epsilon \u001b[38;5;241m=\u001b[39m \u001b[38;5;241m0.2\u001b[39m, samples_phi \u001b[38;5;241m=\u001b[39m \u001b[38;5;241m50\u001b[39m, initial_phi \u001b[38;5;241m=\u001b[39m problem\u001b[38;5;241m.\u001b[39mDEFAULT_PHI,\n\u001b[1;32m      6\u001b[0m                     device \u001b[38;5;241m=\u001b[39m dev)\n",
      "File \u001b[0;32m~/projects/BlackBoxOptimization/src/problems.py:199\u001b[0m, in \u001b[0;36m__init__\u001b[0;34m(self, W0, L0, cores, n_samples, input_dist, sensitive_plane, average_x, apply_det_loss, weight_loss_fn, fSC_mag, simulate_fields, cavern, seed, left_margin, right_margin, y_margin, dimensions_phi, muons_file)\u001b[0m\n\u001b[1;32m    195\u001b[0m \u001b[38;5;28;01melif\u001b[39;00m dimensions_phi \u001b[38;5;241m==\u001b[39m \u001b[38;5;241m72\u001b[39m: \u001b[38;5;28mself\u001b[39m\u001b[38;5;241m.\u001b[39mparams_idx \u001b[38;5;241m=\u001b[39m \u001b[38;5;28mslice\u001b[39m(\u001b[38;5;28;01mNone\u001b[39;00m)\n\u001b[1;32m    196\u001b[0m \u001b[38;5;28mself\u001b[39m\u001b[38;5;241m.\u001b[39mDEFAULT_PHI \u001b[38;5;241m=\u001b[39m \u001b[38;5;28mself\u001b[39m\u001b[38;5;241m.\u001b[39mDEFAULT_PHI[\u001b[38;5;28mself\u001b[39m\u001b[38;5;241m.\u001b[39mparams_idx]\n\u001b[0;32m--> 199\u001b[0m sys\u001b[38;5;241m.\u001b[39mpath\u001b[38;5;241m.\u001b[39minsert(\u001b[38;5;241m1\u001b[39m, join(PROJECTS_DIR,\u001b[38;5;124m'\u001b[39m\u001b[38;5;124mMuonsAndMatter/python/bin\u001b[39m\u001b[38;5;124m'\u001b[39m))\n\u001b[1;32m    200\u001b[0m \u001b[38;5;28;01mfrom\u001b[39;00m \u001b[38;5;21;01mrun_simulation\u001b[39;00m \u001b[38;5;28;01mimport\u001b[39;00m run, get_field\n\u001b[1;32m    201\u001b[0m \u001b[38;5;28mself\u001b[39m\u001b[38;5;241m.\u001b[39mrun_muonshield \u001b[38;5;241m=\u001b[39m run\n",
      "File \u001b[0;32m~/projects/MuonsAndMatter/python/bin/run_simulation.py:4\u001b[0m\n\u001b[1;32m      2\u001b[0m \u001b[38;5;28;01mimport\u001b[39;00m \u001b[38;5;21;01mjson\u001b[39;00m\n\u001b[1;32m      3\u001b[0m \u001b[38;5;28;01mimport\u001b[39;00m \u001b[38;5;21;01mnumpy\u001b[39;00m \u001b[38;5;28;01mas\u001b[39;00m \u001b[38;5;21;01mnp\u001b[39;00m\n\u001b[0;32m----> 4\u001b[0m \u001b[38;5;28;01mfrom\u001b[39;00m \u001b[38;5;21;01mlib\u001b[39;00m\u001b[38;5;21;01m.\u001b[39;00m\u001b[38;5;21;01mship_muon_shield_customfield\u001b[39;00m \u001b[38;5;28;01mimport\u001b[39;00m get_design_from_params, get_field, initialize_geant4\n\u001b[1;32m      5\u001b[0m \u001b[38;5;28;01mfrom\u001b[39;00m \u001b[38;5;21;01mmuon_slabs\u001b[39;00m \u001b[38;5;28;01mimport\u001b[39;00m simulate_muon, collect, kill_secondary_tracks, collect_from_sensitive\n\u001b[1;32m      6\u001b[0m \u001b[38;5;28;01mfrom\u001b[39;00m \u001b[38;5;21;01mplot_magnet\u001b[39;00m \u001b[38;5;28;01mimport\u001b[39;00m plot_magnet, construct_and_plot\n",
      "\u001b[0;31mModuleNotFoundError\u001b[0m: No module named 'lib'"
     ]
    }
   ],
   "source": [
    "problem = ShipMuonShield(cores = 45,fSC_mag=False, dimensions_phi=54,\n",
    "                                        sensitive_plane=82,simulate_fields=False)\n",
    "phi_range = problem.GetBounds(device=dev)\n",
    "optimizer = LGSO(problem, surrogate_model=GANModel(54,643118,64,device = dev), bounds = phi_range,\n",
    "                    epsilon = 0.2, samples_phi = 50, initial_phi = problem.DEFAULT_PHI,\n",
    "                    device = dev)\n"
   ]
  },
  {
   "cell_type": "code",
   "execution_count": null,
   "metadata": {},
   "outputs": [],
   "source": []
  }
 ],
 "metadata": {
  "kernelspec": {
   "display_name": "Python 3",
   "language": "python",
   "name": "python3"
  },
  "language_info": {
   "codemirror_mode": {
    "name": "ipython",
    "version": 3
   },
   "file_extension": ".py",
   "mimetype": "text/x-python",
   "name": "python",
   "nbconvert_exporter": "python",
   "pygments_lexer": "ipython3",
   "version": "3.12.2"
  }
 },
 "nbformat": 4,
 "nbformat_minor": 2
}
