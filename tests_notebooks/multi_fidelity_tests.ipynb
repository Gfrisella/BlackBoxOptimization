{
 "cells": [
  {
   "cell_type": "code",
   "execution_count": 1,
   "metadata": {},
   "outputs": [],
   "source": [
    "import os\n",
    "import torch\n",
    "import botorch\n",
    "import gpytorch"
   ]
  },
  {
   "cell_type": "code",
   "execution_count": 2,
   "metadata": {},
   "outputs": [],
   "source": [
    "tkwargs = {\n",
    "    \"dtype\": torch.double,\n",
    "    \"device\": torch.device(\"cuda\" if torch.cuda.is_available() else \"cpu\"),\n",
    "}\n",
    "SMOKE_TEST = os.environ.get(\"SMOKE_TEST\")"
   ]
  },
  {
   "cell_type": "code",
   "execution_count": 3,
   "metadata": {},
   "outputs": [],
   "source": [
    "problem = botorch.test_functions.multi_fidelity.AugmentedHartmann(negate=True).to(**tkwargs)\n",
    "fidelities = torch.tensor([0.5, 0.75, 1.0], **tkwargs)"
   ]
  },
  {
   "cell_type": "code",
   "execution_count": 4,
   "metadata": {},
   "outputs": [],
   "source": [
    "from botorch.models.gp_regression_fidelity import SingleTaskMultiFidelityGP\n",
    "from botorch.models.transforms.outcome import Standardize\n",
    "from gpytorch.mlls.exact_marginal_log_likelihood import ExactMarginalLogLikelihood"
   ]
  },
  {
   "cell_type": "code",
   "execution_count": 5,
   "metadata": {},
   "outputs": [],
   "source": [
    "def generate_initial_data(n=16):\n",
    "    # generate training data\n",
    "    train_x = torch.rand(n, 6, **tkwargs)\n",
    "    train_f = fidelities[torch.randint(3, (n, 1))]\n",
    "    train_x_full = torch.cat((train_x, train_f), dim=1)\n",
    "    train_obj = problem(train_x_full).unsqueeze(-1)  # add output dimension\n",
    "    return train_x_full, train_obj\n",
    "\n",
    "\n",
    "def initialize_model(train_x, train_obj):\n",
    "    # define a surrogate model suited for a \"training data\"-like fidelity parameter\n",
    "    # in dimension 6, as in [2]\n",
    "    model = SingleTaskMultiFidelityGP(\n",
    "        train_x, train_obj, outcome_transform=Standardize(m=1), data_fidelities=[6]\n",
    "    )\n",
    "    mll = ExactMarginalLogLikelihood(model.likelihood, model)\n",
    "    return mll, model"
   ]
  },
  {
   "cell_type": "code",
   "execution_count": 6,
   "metadata": {},
   "outputs": [],
   "source": [
    "from botorch import fit_gpytorch_mll\n",
    "from botorch.models.cost import AffineFidelityCostModel\n",
    "from botorch.acquisition.cost_aware import InverseCostWeightedUtility\n",
    "from botorch.acquisition import PosteriorMean\n",
    "from botorch.acquisition.knowledge_gradient import qMultiFidelityKnowledgeGradient\n",
    "from botorch.acquisition.fixed_feature import FixedFeatureAcquisitionFunction\n",
    "from botorch.optim.optimize import optimize_acqf\n",
    "from botorch.acquisition.utils import project_to_target_fidelity\n",
    "\n",
    "bounds = torch.tensor([[0.0] * problem.dim, [1.0] * problem.dim], **tkwargs)\n",
    "target_fidelities = {6: 1.0}\n",
    "\n",
    "cost_model = AffineFidelityCostModel(fidelity_weights={6: 1.0}, fixed_cost=5.0)\n",
    "cost_aware_utility = InverseCostWeightedUtility(cost_model=cost_model)\n",
    "\n",
    "\n",
    "def project(X):\n",
    "    return project_to_target_fidelity(X=X, target_fidelities=target_fidelities)\n",
    "\n",
    "\n",
    "def get_mfkg(model):\n",
    "\n",
    "    curr_val_acqf = FixedFeatureAcquisitionFunction(\n",
    "        acq_function=PosteriorMean(model),\n",
    "        d=7,\n",
    "        columns=[6],\n",
    "        values=[1],\n",
    "    )\n",
    "\n",
    "    _, current_value = optimize_acqf(\n",
    "        acq_function=curr_val_acqf,\n",
    "        bounds=bounds[:, :-1],\n",
    "        q=1,\n",
    "        num_restarts=10 if not SMOKE_TEST else 2,\n",
    "        raw_samples=1024 if not SMOKE_TEST else 4,\n",
    "        options={\"batch_limit\": 10, \"maxiter\": 200},\n",
    "    )\n",
    "\n",
    "    return qMultiFidelityKnowledgeGradient(\n",
    "        model=model,\n",
    "        num_fantasies=128 if not SMOKE_TEST else 2,\n",
    "        current_value=current_value,\n",
    "        cost_aware_utility=cost_aware_utility,\n",
    "        project=project,\n",
    "    )"
   ]
  },
  {
   "cell_type": "code",
   "execution_count": 7,
   "metadata": {},
   "outputs": [],
   "source": [
    "from botorch.optim.optimize import optimize_acqf_mixed\n",
    "\n",
    "\n",
    "torch.set_printoptions(precision=3, sci_mode=False)\n",
    "\n",
    "NUM_RESTARTS = 5 if not SMOKE_TEST else 2\n",
    "RAW_SAMPLES = 128 if not SMOKE_TEST else 4\n",
    "BATCH_SIZE = 4\n",
    "\n",
    "\n",
    "def optimize_mfkg_and_get_observation(mfkg_acqf):\n",
    "    \"\"\"Optimizes MFKG and returns a new candidate, observation, and cost.\"\"\"\n",
    "\n",
    "    # generate new candidates\n",
    "    candidates, _ = optimize_acqf_mixed(\n",
    "        acq_function=mfkg_acqf,\n",
    "        bounds=bounds,\n",
    "        fixed_features_list=[{6: 0.5}, {6: 0.75}, {6: 1.0}],\n",
    "        q=BATCH_SIZE,\n",
    "        num_restarts=NUM_RESTARTS,\n",
    "        raw_samples=RAW_SAMPLES,\n",
    "        # batch_initial_conditions=X_init,\n",
    "        options={\"batch_limit\": 5, \"maxiter\": 200},\n",
    "    )\n",
    "\n",
    "    # observe new values\n",
    "    cost = cost_model(candidates).sum()\n",
    "    new_x = candidates.detach()\n",
    "    new_obj = problem(new_x).unsqueeze(-1)\n",
    "    print(f\"candidates:\\n{new_x}\\n\")\n",
    "    print(f\"observations:\\n{new_obj}\\n\\n\")\n",
    "    return new_x, new_obj, cost"
   ]
  },
  {
   "cell_type": "code",
   "execution_count": 8,
   "metadata": {},
   "outputs": [],
   "source": [
    "train_x, train_obj = generate_initial_data(n=16)\n"
   ]
  },
  {
   "cell_type": "code",
   "execution_count": 9,
   "metadata": {},
   "outputs": [
    {
     "name": "stderr",
     "output_type": "stream",
     "text": [
      "/home/hep/lprate/miniconda3/lib/python3.12/site-packages/botorch/models/gpytorch.py:488: BotorchTensorDimensionWarning: Non-strict enforcement of botorch tensor conventions. The following error would have been raised with strict enforcement: Expected X and Y to have the same number of dimensions (got X with dimension 3 and Y with dimension 4).\n",
      "  self._validate_tensor_args(X=X, Y=Y, Yvar=noise, strict=False)\n",
      "/home/hep/lprate/miniconda3/lib/python3.12/site-packages/botorch/models/gpytorch.py:251: BotorchTensorDimensionWarning: Non-strict enforcement of botorch tensor conventions. The following error would have been raised with strict enforcement: Expected X and Y to have the same number of dimensions (got X with dimension 3 and Y with dimension 4).\n",
      "  self._validate_tensor_args(X=X, Y=Y, Yvar=Yvar, strict=False)\n"
     ]
    },
    {
     "name": "stdout",
     "output_type": "stream",
     "text": [
      "candidates:\n",
      "tensor([[0.419, 0.122, 0.717, 0.166, 0.521, 0.459, 0.750],\n",
      "        [0.521, 0.044, 0.587, 0.132, 0.408, 0.627, 0.750],\n",
      "        [0.426, 0.196, 0.752, 0.140, 0.286, 0.610, 0.500],\n",
      "        [0.369, 0.000, 0.731, 0.082, 0.368, 0.662, 0.750]], device='cuda:0',\n",
      "       dtype=torch.float64)\n",
      "\n",
      "observations:\n",
      "tensor([[0.785],\n",
      "        [1.480],\n",
      "        [1.760],\n",
      "        [1.484]], device='cuda:0', dtype=torch.float64)\n",
      "\n",
      "\n"
     ]
    },
    {
     "name": "stderr",
     "output_type": "stream",
     "text": [
      "/home/hep/lprate/miniconda3/lib/python3.12/site-packages/botorch/models/gpytorch.py:488: BotorchTensorDimensionWarning: Non-strict enforcement of botorch tensor conventions. The following error would have been raised with strict enforcement: Expected X and Y to have the same number of dimensions (got X with dimension 3 and Y with dimension 4).\n",
      "  self._validate_tensor_args(X=X, Y=Y, Yvar=noise, strict=False)\n",
      "/home/hep/lprate/miniconda3/lib/python3.12/site-packages/botorch/models/gpytorch.py:251: BotorchTensorDimensionWarning: Non-strict enforcement of botorch tensor conventions. The following error would have been raised with strict enforcement: Expected X and Y to have the same number of dimensions (got X with dimension 3 and Y with dimension 4).\n",
      "  self._validate_tensor_args(X=X, Y=Y, Yvar=Yvar, strict=False)\n"
     ]
    },
    {
     "name": "stdout",
     "output_type": "stream",
     "text": [
      "candidates:\n",
      "tensor([[0.427, 0.009, 0.531, 0.000, 0.389, 0.780, 0.750],\n",
      "        [0.388, 0.000, 0.452, 0.000, 0.532, 0.706, 1.000],\n",
      "        [0.245, 0.038, 0.586, 0.197, 0.372, 0.666, 0.750],\n",
      "        [0.047, 1.000, 1.000, 0.000, 0.000, 1.000, 1.000]], device='cuda:0',\n",
      "       dtype=torch.float64)\n",
      "\n",
      "observations:\n",
      "tensor([[1.040],\n",
      "        [0.761],\n",
      "        [2.723],\n",
      "        [0.026]], device='cuda:0', dtype=torch.float64)\n",
      "\n",
      "\n"
     ]
    },
    {
     "name": "stderr",
     "output_type": "stream",
     "text": [
      "/home/hep/lprate/miniconda3/lib/python3.12/site-packages/botorch/models/gpytorch.py:488: BotorchTensorDimensionWarning: Non-strict enforcement of botorch tensor conventions. The following error would have been raised with strict enforcement: Expected X and Y to have the same number of dimensions (got X with dimension 3 and Y with dimension 4).\n",
      "  self._validate_tensor_args(X=X, Y=Y, Yvar=noise, strict=False)\n",
      "/home/hep/lprate/miniconda3/lib/python3.12/site-packages/botorch/models/gpytorch.py:251: BotorchTensorDimensionWarning: Non-strict enforcement of botorch tensor conventions. The following error would have been raised with strict enforcement: Expected X and Y to have the same number of dimensions (got X with dimension 3 and Y with dimension 4).\n",
      "  self._validate_tensor_args(X=X, Y=Y, Yvar=Yvar, strict=False)\n"
     ]
    },
    {
     "name": "stdout",
     "output_type": "stream",
     "text": [
      "candidates:\n",
      "tensor([[0.639, 0.679, 0.448, 0.411, 0.232, 0.687, 0.750],\n",
      "        [0.177, 0.000, 0.451, 0.196, 0.305, 0.541, 0.500],\n",
      "        [0.577, 0.699, 0.408, 0.959, 0.936, 0.000, 0.500],\n",
      "        [0.162, 0.060, 0.540, 0.137, 0.470, 0.625, 1.000]], device='cuda:0',\n",
      "       dtype=torch.float64)\n",
      "\n",
      "observations:\n",
      "tensor([[0.543],\n",
      "        [2.591],\n",
      "        [0.303],\n",
      "        [2.061]], device='cuda:0', dtype=torch.float64)\n",
      "\n",
      "\n"
     ]
    }
   ],
   "source": [
    "cumulative_cost = 0.0\n",
    "N_ITER = 3 if not SMOKE_TEST else 1\n",
    "\n",
    "for i in range(N_ITER):\n",
    "    mll, model = initialize_model(train_x, train_obj)\n",
    "    fit_gpytorch_mll(mll)\n",
    "    mfkg_acqf = get_mfkg(model)\n",
    "    new_x, new_obj, cost = optimize_mfkg_and_get_observation(mfkg_acqf)\n",
    "    train_x = torch.cat([train_x, new_x])\n",
    "    train_obj = torch.cat([train_obj, new_obj])\n",
    "    cumulative_cost += cost"
   ]
  },
  {
   "cell_type": "code",
   "execution_count": 10,
   "metadata": {},
   "outputs": [],
   "source": [
    "def get_recommendation(model):\n",
    "    rec_acqf = FixedFeatureAcquisitionFunction(\n",
    "        acq_function=PosteriorMean(model),\n",
    "        d=7,\n",
    "        columns=[6],\n",
    "        values=[1],\n",
    "    )\n",
    "\n",
    "    final_rec, _ = optimize_acqf(\n",
    "        acq_function=rec_acqf,\n",
    "        bounds=bounds[:, :-1],\n",
    "        q=1,\n",
    "        num_restarts=10,\n",
    "        raw_samples=512,\n",
    "        options={\"batch_limit\": 5, \"maxiter\": 200},\n",
    "    )\n",
    "\n",
    "    final_rec = rec_acqf._construct_X_full(final_rec)\n",
    "\n",
    "    objective_value = problem(final_rec)\n",
    "    print(f\"recommended point:\\n{final_rec}\\n\\nobjective value:\\n{objective_value}\")\n",
    "    return final_rec"
   ]
  },
  {
   "cell_type": "code",
   "execution_count": 12,
   "metadata": {},
   "outputs": [
    {
     "name": "stdout",
     "output_type": "stream",
     "text": [
      "recommended point:\n",
      "tensor([[0.231, 0.048, 0.571, 0.211, 0.344, 0.678, 1.000]], device='cuda:0',\n",
      "       dtype=torch.float64)\n",
      "\n",
      "objective value:\n",
      "tensor([2.941], device='cuda:0', dtype=torch.float64)\n",
      "\n",
      "total cost: 69.0\n",
      "\n"
     ]
    }
   ],
   "source": [
    "final_rec = get_recommendation(model)\n",
    "print(f\"\\ntotal cost: {cumulative_cost}\\n\")\n"
   ]
  },
  {
   "cell_type": "code",
   "execution_count": null,
   "metadata": {},
   "outputs": [],
   "source": []
  }
 ],
 "metadata": {
  "kernelspec": {
   "display_name": "Python 3",
   "language": "python",
   "name": "python3"
  },
  "language_info": {
   "codemirror_mode": {
    "name": "ipython",
    "version": 3
   },
   "file_extension": ".py",
   "mimetype": "text/x-python",
   "name": "python",
   "nbconvert_exporter": "python",
   "pygments_lexer": "ipython3",
   "version": "3.12.3"
  }
 },
 "nbformat": 4,
 "nbformat_minor": 2
}
