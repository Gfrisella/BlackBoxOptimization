{
 "cells": [
  {
   "cell_type": "code",
   "execution_count": 1,
   "metadata": {},
   "outputs": [],
   "source": [
    "import torch\n",
    "from botorch import acquisition, settings\n",
    "from utils.optimizer import BayesianOptimizer,LGSO\n",
    "from utils import problems\n",
    "from matplotlib import pyplot as plt\n",
    "import argparse\n",
    "from utils.models import GP_RBF, GP_Cylindrical_Custom"
   ]
  },
  {
   "cell_type": "code",
   "execution_count": 2,
   "metadata": {},
   "outputs": [],
   "source": [
    "dev = torch.device('cuda')"
   ]
  },
  {
   "cell_type": "code",
   "execution_count": 3,
   "metadata": {},
   "outputs": [],
   "source": [
    "class ThreeHump():\n",
    "    def __init__(self,noise:float = 0) -> None:\n",
    "        self.noise = noise\n",
    "    def __call__(self,phi:torch.tensor, x:torch.tensor = None):\n",
    "        y = 2*(phi[:, 0].pow(2)) - 1.05*(phi[:, 0]**4) + phi[:, 0] ** 6 / 6 + phi[:,0] * phi[:,1] + phi[:, 1] ** 2\n",
    "        y = y.view(-1,1)\n",
    "        if self.noise:\n",
    "            y += x\n",
    "        return y\n",
    "    def sample_x(self,phi,*args):\n",
    "        return torch.randn((phi.shape[0],1),device = phi.device)*self.noise\n",
    "\n",
    "class stochastic_ThreeHump(ThreeHump):\n",
    "    def __init__(self, n_samples = 1, average_x = True,bounds_1 = (-2,0), bounds_2 = (2,5)) -> None:\n",
    "        super().__init__(0)\n",
    "        self.bounds_1 = bounds_1\n",
    "        self.bounds_2 = bounds_2\n",
    "        self.n_samples = n_samples\n",
    "        self.average_x = average_x\n",
    "        self.std = 0.0\n",
    "    @staticmethod\n",
    "    def dif_sigma(x):\n",
    "        return torch.sigmoid(x-10)-torch.sigmoid(x)\n",
    "    def sample_x(self,phi):\n",
    "        P1 = phi[:,0].div(phi.norm(p=2,dim=-1)).view(-1,1)\n",
    "        mask = torch.rand((phi.size(0),self.n_samples),device=phi.device).le(P1)\n",
    "        x1 = problems.uniform_sample((phi.size(0),self.n_samples),self.bounds_1,device=phi.device)\n",
    "        x2 = problems.uniform_sample((phi.size(0),self.n_samples),self.bounds_2,device=phi.device)\n",
    "        return torch.where(mask, x1, x2)\n",
    "    def __call__(self, phi:torch.tensor, x:torch.tensor = None):\n",
    "        h = super().__call__(phi)\n",
    "        if x is None: x = self.sample_x(phi)\n",
    "        mu = x*h + torch.randn_like(h)*self.std\n",
    "        y =  mu+torch.randn_like(h)*self.std\n",
    "        #y = self.dif_sigma(y)\n",
    "        if self.average_x: y = y.mean(-1,keepdim=True)\n",
    "        return y"
   ]
  },
  {
   "cell_type": "code",
   "execution_count": 4,
   "metadata": {},
   "outputs": [],
   "source": [
    "N_initial_points = 11\n",
    "phi_range = torch.as_tensor([-10,10],device=dev,dtype=torch.get_default_dtype()).view(2,-1)  \n",
    "max_iter = 100\n",
    "dimensions_phi = 2\n",
    "if phi_range.size(1) != dimensions_phi: phi_range = phi_range.repeat(1,dimensions_phi)\n",
    "n_samples = 97\n",
    "problem_fn = stochastic_ThreeHump(n_samples=n_samples,average_x=False)\n",
    "model = GP_RBF(phi_range,dev)\n"
   ]
  },
  {
   "cell_type": "code",
   "execution_count": 5,
   "metadata": {},
   "outputs": [],
   "source": [
    "initial_phi = (phi_range[1]-phi_range[0])*torch.rand(N_initial_points,dimensions_phi,device=dev)+phi_range[0]"
   ]
  },
  {
   "cell_type": "code",
   "execution_count": 6,
   "metadata": {},
   "outputs": [],
   "source": [
    "acquisition_fn = acquisition.ExpectedImprovement\n",
    "optimizer = BayesianOptimizer(problem_fn,model,phi_range,acquisition_fn=acquisition_fn,initial_phi = initial_phi,device = dev)"
   ]
  },
  {
   "cell_type": "code",
   "execution_count": 7,
   "metadata": {},
   "outputs": [],
   "source": [
    "D = (initial_phi,problem_fn(initial_phi))"
   ]
  },
  {
   "cell_type": "code",
   "execution_count": 8,
   "metadata": {},
   "outputs": [],
   "source": [
    "phi = 2*torch.ones(1,2)\n",
    "x = problem_fn.sample_x(phi)"
   ]
  },
  {
   "cell_type": "code",
   "execution_count": 9,
   "metadata": {},
   "outputs": [
    {
     "data": {
      "text/plain": [
       "tensor([[9.8667]])"
      ]
     },
     "execution_count": 9,
     "metadata": {},
     "output_type": "execute_result"
    }
   ],
   "source": [
    "h = ThreeHump(0)(phi)\n",
    "h"
   ]
  },
  {
   "cell_type": "code",
   "execution_count": 14,
   "metadata": {},
   "outputs": [
    {
     "name": "stdout",
     "output_type": "stream",
     "text": [
      "tensor([[ -2.2383,  -9.1515,  -2.8851, -19.1176,  -8.6307,  27.1678, -19.2110,\n",
      "          44.2639,  -6.8590,  -5.9229,  -6.6539,  38.2610,  44.9255,  30.1246,\n",
      "         -19.4470,  26.4677, -19.4788, -15.3358, -11.5028,  -9.7686, -13.1213,\n",
      "          -7.3782, -16.9055,  26.8063,  -5.0972,  24.4636, -11.6987,  47.7261,\n",
      "         -12.8406,  26.1231,  43.6857, -14.2480,  40.0233, -17.9812, -19.0765,\n",
      "          26.2534,  22.8018, -18.8756, -19.4916,  -6.0731, -14.3548,  -4.0871,\n",
      "          22.5666, -19.0798,  40.3231,  30.2458,  -8.8847, -12.3518, -13.8330,\n",
      "          -5.3468,  21.5670, -16.5899, -14.6724, -14.4513,  40.0976,  32.6720,\n",
      "          -9.2921,  -8.4856, -14.2515, -18.0402, -13.7731, -10.3156,  -3.3034,\n",
      "          -4.5832, -18.1865,  -1.6222, -17.0005, -16.2575, -19.4024,  -1.1285,\n",
      "         -17.5134,  45.7322,  -4.2399, -13.4797,  -2.8892,  -2.2525,  39.8711,\n",
      "         -18.1479,  -5.1873,  49.0537, -18.8267,  23.4031,  20.2116, -14.2402,\n",
      "          -7.8966, -18.5174,  36.2821,  42.1890,  -6.8989, -16.1994,  25.8870,\n",
      "          23.3393,  41.8721, -19.2104,  -1.8491, -18.9425, -17.6975]])\n"
     ]
    },
    {
     "data": {
      "text/plain": [
       "tensor([-0.0097])"
      ]
     },
     "execution_count": 14,
     "metadata": {},
     "output_type": "execute_result"
    }
   ],
   "source": [
    "mu = x*h + torch.randn_like(h)*0\n",
    "print(mu)\n",
    "y =  mu+torch.randn_like(h)*0\n",
    "stochastic_ThreeHump.dif_sigma(y).mean(-1)"
   ]
  },
  {
   "cell_type": "code",
   "execution_count": null,
   "metadata": {},
   "outputs": [],
   "source": []
  }
 ],
 "metadata": {
  "kernelspec": {
   "display_name": "Python 3",
   "language": "python",
   "name": "python3"
  },
  "language_info": {
   "codemirror_mode": {
    "name": "ipython",
    "version": 3
   },
   "file_extension": ".py",
   "mimetype": "text/x-python",
   "name": "python",
   "nbconvert_exporter": "python",
   "pygments_lexer": "ipython3",
   "version": "3.12.3"
  }
 },
 "nbformat": 4,
 "nbformat_minor": 2
}
