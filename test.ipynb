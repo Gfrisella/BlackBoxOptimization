{
 "cells": [
  {
   "cell_type": "code",
   "execution_count": 1,
   "metadata": {},
   "outputs": [],
   "source": [
    "import torch\n",
    "from botorch import acquisition, settings\n",
    "from utils.optimizer import BayesianOptimizer,LGSO\n",
    "from utils import problems\n",
    "from matplotlib import pyplot as plt\n",
    "import argparse\n",
    "from utils.models import GP_RBF, GP_Cylindrical_Custom\n",
    "import botorch"
   ]
  },
  {
   "cell_type": "code",
   "execution_count": 2,
   "metadata": {},
   "outputs": [],
   "source": [
    "dev = torch.device('cuda')"
   ]
  },
  {
   "cell_type": "code",
   "execution_count": 3,
   "metadata": {},
   "outputs": [],
   "source": [
    "INITIAL_PHI = torch.tensor([[208.0, 207.0, 281.0, 248.0, 305.0, 242.0, 72.0, 51.0, 29.0, 46.0, 10.0, 7.0, 54.0,\n",
    "                         38.0, 46.0, 192.0, 14.0, 9.0, 10.0, 31.0, 35.0, 31.0, 51.0, 11.0, 3.0, 32.0, 54.0, \n",
    "                         24.0, 8.0, 8.0, 22.0, 32.0, 209.0, 35.0, 8.0, 13.0, 33.0, 77.0, 85.0, 241.0, 9.0, 26.0]],device = dev)"
   ]
  },
  {
   "cell_type": "code",
   "execution_count": 4,
   "metadata": {},
   "outputs": [],
   "source": [
    "problem_fn = problems.ShipMuonShield()\n",
    "dimensions_phi = INITIAL_PHI.size(-1)\n",
    "bounds = problem_fn.GetBounds(device=dev)\n",
    "model = GP_RBF(bounds,dev)\n",
    "acquisition_fn = botorch.acquisition.ExpectedImprovement\n",
    "acquisition_params = {'num_restarts': 20, 'raw_samples':2000}\n"
   ]
  },
  {
   "cell_type": "code",
   "execution_count": 5,
   "metadata": {},
   "outputs": [],
   "source": [
    "from time import time\n",
    "from warnings import filterwarnings\n",
    "filterwarnings(\"ignore\")"
   ]
  },
  {
   "cell_type": "code",
   "execution_count": 6,
   "metadata": {},
   "outputs": [],
   "source": [
    "times_gpu = []\n",
    "n_list = [1,10,50,500,750,1000,2500,5000,7500,10000,12500,15000]\n",
    "N = 50\n",
    "for N_initial_points in n_list:\n",
    "    print(N_initial_points)\n",
    "    t = 0\n",
    "    for _ in range(N):\n",
    "        y = torch.randn(N_initial_points,1,device=dev)+249897\n",
    "        phi = torch.randn(N_initial_points,dimensions_phi,device=dev)+INITIAL_PHI\n",
    "        start = time()\n",
    "        model.fit(phi,y)\n",
    "        acquisition = acquisition_fn(model, 54535, maximize=False)\n",
    "        botorch.optim.optimize.optimize_acqf(acquisition, bounds, q=1,**acquisition_params)[0]\n",
    "        t += time()-start\n",
    "    times_gpu.append(t/N)"
   ]
  },
  {
   "cell_type": "code",
   "execution_count": null,
   "metadata": {},
   "outputs": [],
   "source": [
    "dev = torch.device('cpu')\n",
    "times_cpu = []\n",
    "for N_initial_points in n_list:\n",
    "    print(N_initial_points)\n",
    "    t = 0\n",
    "    for _ in range(N):\n",
    "        y = torch.randn(N_initial_points,1,device=dev)+249897\n",
    "        phi = torch.randn(N_initial_points,dimensions_phi,device=dev)+INITIAL_PHI\n",
    "        start = time()\n",
    "        model.fit(phi,y)\n",
    "        acquisition = acquisition_fn(model, 54535, maximize=False)\n",
    "        botorch.optim.optimize.optimize_acqf(acquisition, bounds, q=1,**acquisition_params)[0]\n",
    "        t += time()-start\n",
    "    times_cpu.append(t/N)"
   ]
  },
  {
   "cell_type": "code",
   "execution_count": null,
   "metadata": {},
   "outputs": [],
   "source": [
    "plt.plot(n_list,times_gpu, label = 'gpu')\n",
    "plt.plot(n_list,times_cpu, label = 'cpu')\n",
    "plt.legend()\n",
    "plt.grid()\n",
    "plt.show()"
   ]
  },
  {
   "cell_type": "code",
   "execution_count": null,
   "metadata": {},
   "outputs": [],
   "source": []
  }
 ],
 "metadata": {
  "kernelspec": {
   "display_name": "Python 3",
   "language": "python",
   "name": "python3"
  },
  "language_info": {
   "codemirror_mode": {
    "name": "ipython",
    "version": 3
   },
   "file_extension": ".py",
   "mimetype": "text/x-python",
   "name": "python",
   "nbconvert_exporter": "python",
   "pygments_lexer": "ipython3",
   "version": "3.12.3"
  }
 },
 "nbformat": 4,
 "nbformat_minor": 2
}
